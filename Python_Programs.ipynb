{
 "cells": [
  {
   "cell_type": "code",
   "execution_count": 6,
   "metadata": {},
   "outputs": [
    {
     "name": "stdout",
     "output_type": "stream",
     "text": [
      "Original number:  456456\n",
      "Reversed number:  654654\n"
     ]
    }
   ],
   "source": [
    "# 1. program to reverse an integer in python\n",
    "no = int(input('Enter a number: '))\n",
    "reversed_no = 0\n",
    "print('Original number: ',no)\n",
    "while no != 0:\n",
    "    reversed_no = reversed_no*10 + no%10       \n",
    "    no = (no//10)\n",
    "\n",
    "print('Reversed number: ',reversed_no)"
   ]
  },
  {
   "cell_type": "code",
   "execution_count": null,
   "metadata": {},
   "outputs": [],
   "source": []
  }
 ],
 "metadata": {
  "interpreter": {
   "hash": "99bbbd99d9bbec660d19ecb69e64df5ddffd599697d0428e21cfc4edfa8ab8dc"
  },
  "kernelspec": {
   "display_name": "Python 3.8.8 ('base')",
   "language": "python",
   "name": "python3"
  },
  "language_info": {
   "codemirror_mode": {
    "name": "ipython",
    "version": 3
   },
   "file_extension": ".py",
   "mimetype": "text/x-python",
   "name": "python",
   "nbconvert_exporter": "python",
   "pygments_lexer": "ipython3",
   "version": "3.8.8"
  },
  "orig_nbformat": 4
 },
 "nbformat": 4,
 "nbformat_minor": 2
}
