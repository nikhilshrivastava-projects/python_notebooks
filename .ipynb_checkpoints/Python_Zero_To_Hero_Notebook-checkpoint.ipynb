{
 "cells": [
  {
   "cell_type": "code",
   "execution_count": 13,
   "id": "76c325d8",
   "metadata": {},
   "outputs": [],
   "source": [
    "message = \"   Python is awesomE   \""
   ]
  },
  {
   "cell_type": "code",
   "execution_count": 14,
   "id": "462bef0c",
   "metadata": {},
   "outputs": [
    {
     "name": "stdout",
     "output_type": "stream",
     "text": [
      "   Python is awesomE   \n"
     ]
    }
   ],
   "source": [
    "print(message)"
   ]
  },
  {
   "cell_type": "code",
   "execution_count": 15,
   "id": "ca474cd6",
   "metadata": {},
   "outputs": [
    {
     "name": "stdout",
     "output_type": "stream",
     "text": [
      "23\n"
     ]
    }
   ],
   "source": [
    "print(len(message))"
   ]
  },
  {
   "cell_type": "code",
   "execution_count": 4,
   "id": "f885594d",
   "metadata": {},
   "outputs": [
    {
     "name": "stdout",
     "output_type": "stream",
     "text": [
      "PYTHON IS AWESOME\n"
     ]
    }
   ],
   "source": [
    "print(message.upper())"
   ]
  },
  {
   "cell_type": "code",
   "execution_count": 5,
   "id": "63934f9a",
   "metadata": {},
   "outputs": [
    {
     "name": "stdout",
     "output_type": "stream",
     "text": [
      "python is awesome\n"
     ]
    }
   ],
   "source": [
    "print(message.lower())"
   ]
  },
  {
   "cell_type": "code",
   "execution_count": 9,
   "id": "1b4d428d",
   "metadata": {},
   "outputs": [
    {
     "name": "stdout",
     "output_type": "stream",
     "text": [
      "Python is awesomE\n"
     ]
    }
   ],
   "source": [
    "print(message.strip())"
   ]
  },
  {
   "cell_type": "code",
   "execution_count": 16,
   "id": "555c0d60",
   "metadata": {},
   "outputs": [
    {
     "name": "stdout",
     "output_type": "stream",
     "text": [
      "23\n"
     ]
    }
   ],
   "source": [
    "print(len(message))"
   ]
  },
  {
   "cell_type": "code",
   "execution_count": 17,
   "id": "4691954b",
   "metadata": {},
   "outputs": [
    {
     "name": "stdout",
     "output_type": "stream",
     "text": [
      "17\n"
     ]
    }
   ],
   "source": [
    "print(len(message.strip()))"
   ]
  },
  {
   "cell_type": "code",
   "execution_count": 18,
   "id": "2acd2b70",
   "metadata": {},
   "outputs": [],
   "source": [
    "\n",
    "## String Operations"
   ]
  },
  {
   "cell_type": "code",
   "execution_count": 24,
   "id": "2b94dc52",
   "metadata": {},
   "outputs": [
    {
     "data": {
      "text/plain": [
       "'hello world'"
      ]
     },
     "execution_count": 24,
     "metadata": {},
     "output_type": "execute_result"
    }
   ],
   "source": [
    "#concatinate or addition\n",
    "'hello' + 'world'\n",
    "'hello' + \" \" + 'world'"
   ]
  },
  {
   "cell_type": "code",
   "execution_count": 26,
   "id": "abc2cdc4",
   "metadata": {},
   "outputs": [
    {
     "data": {
      "text/plain": [
       "'hello world hello world hello world '"
      ]
     },
     "execution_count": 26,
     "metadata": {},
     "output_type": "execute_result"
    }
   ],
   "source": [
    "#multiplication\n",
    "'hello world ' * 3"
   ]
  },
  {
   "cell_type": "code",
   "execution_count": 27,
   "id": "11ecfc26",
   "metadata": {},
   "outputs": [
    {
     "data": {
      "text/plain": [
       "'....................'"
      ]
     },
     "execution_count": 27,
     "metadata": {},
     "output_type": "execute_result"
    }
   ],
   "source": [
    "'.' * 20"
   ]
  },
  {
   "cell_type": "code",
   "execution_count": 28,
   "id": "14693fcc",
   "metadata": {},
   "outputs": [
    {
     "data": {
      "text/plain": [
       "'-------------------------'"
      ]
     },
     "execution_count": 28,
     "metadata": {},
     "output_type": "execute_result"
    }
   ],
   "source": [
    "'-' * 25"
   ]
  },
  {
   "cell_type": "code",
   "execution_count": 29,
   "id": "bd397175",
   "metadata": {},
   "outputs": [
    {
     "data": {
      "text/plain": [
       "True"
      ]
     },
     "execution_count": 29,
     "metadata": {},
     "output_type": "execute_result"
    }
   ],
   "source": [
    "# in and not in operator\n",
    "friends = 'alex, peter, john are my friends'\n",
    "'peter' in friends"
   ]
  },
  {
   "cell_type": "code",
   "execution_count": 30,
   "id": "15ee669e",
   "metadata": {},
   "outputs": [
    {
     "name": "stdout",
     "output_type": "stream",
     "text": [
      "<class 'str'>\n"
     ]
    }
   ],
   "source": [
    "print(type(friends))"
   ]
  },
  {
   "cell_type": "code",
   "execution_count": 31,
   "id": "ab6d1107",
   "metadata": {},
   "outputs": [
    {
     "data": {
      "text/plain": [
       "False"
      ]
     },
     "execution_count": 31,
     "metadata": {},
     "output_type": "execute_result"
    }
   ],
   "source": [
    "'mary' in friends"
   ]
  },
  {
   "cell_type": "code",
   "execution_count": 32,
   "id": "c3dbe6bc",
   "metadata": {},
   "outputs": [
    {
     "data": {
      "text/plain": [
       "False"
      ]
     },
     "execution_count": 32,
     "metadata": {},
     "output_type": "execute_result"
    }
   ],
   "source": [
    "'alex' not in friends"
   ]
  },
  {
   "cell_type": "code",
   "execution_count": 33,
   "id": "05538b6a",
   "metadata": {},
   "outputs": [
    {
     "data": {
      "text/plain": [
       "True"
      ]
     },
     "execution_count": 33,
     "metadata": {},
     "output_type": "execute_result"
    }
   ],
   "source": [
    "'susan' not in friends"
   ]
  },
  {
   "cell_type": "code",
   "execution_count": null,
   "id": "2edac0c2",
   "metadata": {},
   "outputs": [],
   "source": [
    "# slice, format functions, changing data types with functions, project: Bill payment system"
   ]
  },
  {
   "cell_type": "code",
   "execution_count": 40,
   "id": "0b8b5705",
   "metadata": {},
   "outputs": [
    {
     "data": {
      "text/plain": [
       "'w'"
      ]
     },
     "execution_count": 40,
     "metadata": {},
     "output_type": "execute_result"
    }
   ],
   "source": [
    "#slice: to retrive values based on index position\n",
    "'wonderwomen'[-5]"
   ]
  },
  {
   "cell_type": "code",
   "execution_count": 41,
   "id": "a9582ece",
   "metadata": {},
   "outputs": [
    {
     "data": {
      "text/plain": [
       "'r'"
      ]
     },
     "execution_count": 41,
     "metadata": {},
     "output_type": "execute_result"
    }
   ],
   "source": [
    "'charlie'[3]"
   ]
  },
  {
   "cell_type": "code",
   "execution_count": 42,
   "id": "4cff344b",
   "metadata": {},
   "outputs": [
    {
     "data": {
      "text/plain": [
       "'derm'"
      ]
     },
     "execution_count": 42,
     "metadata": {},
     "output_type": "execute_result"
    }
   ],
   "source": [
    "'spiderman'[3:7]"
   ]
  },
  {
   "cell_type": "code",
   "execution_count": 43,
   "id": "7674be92",
   "metadata": {},
   "outputs": [
    {
     "data": {
      "text/plain": [
       "'taxpa'"
      ]
     },
     "execution_count": 43,
     "metadata": {},
     "output_type": "execute_result"
    }
   ],
   "source": [
    "'taxpayer'[:5]"
   ]
  },
  {
   "cell_type": "code",
   "execution_count": null,
   "id": "0d42e9d0",
   "metadata": {},
   "outputs": [],
   "source": [
    "#Format function: to substitue a placeholder with a value"
   ]
  },
  {
   "cell_type": "code",
   "execution_count": 48,
   "id": "93604034",
   "metadata": {},
   "outputs": [
    {
     "name": "stdout",
     "output_type": "stream",
     "text": [
      "My name is Peter, I am 20 years old and I love Photography\n"
     ]
    }
   ],
   "source": [
    "name = 'Peter'\n",
    "age = 20\n",
    "hobby = 'Photography'\n",
    "message = 'My name is {}, I am {} years old and I love {}'.format(name,age,hobby)\n",
    "print(message)"
   ]
  },
  {
   "cell_type": "code",
   "execution_count": 51,
   "id": "f15e6a01",
   "metadata": {},
   "outputs": [
    {
     "name": "stdout",
     "output_type": "stream",
     "text": [
      "My name is 20, I am Peter years old and I love Photography\n"
     ]
    }
   ],
   "source": [
    "#using indexing in format method\n",
    "message = 'My name is {1}, I am {0} years old and I love {2}'.format(name,age,hobby)\n",
    "print(message)"
   ]
  },
  {
   "cell_type": "code",
   "execution_count": null,
   "id": "7bccf757",
   "metadata": {},
   "outputs": [],
   "source": [
    "#Casting: Converting a variable value from one datatype to another"
   ]
  },
  {
   "cell_type": "code",
   "execution_count": 52,
   "id": "30c916bf",
   "metadata": {},
   "outputs": [
    {
     "data": {
      "text/plain": [
       "int"
      ]
     },
     "execution_count": 52,
     "metadata": {},
     "output_type": "execute_result"
    }
   ],
   "source": [
    "type(5)"
   ]
  },
  {
   "cell_type": "code",
   "execution_count": 53,
   "id": "25e59c27",
   "metadata": {},
   "outputs": [
    {
     "data": {
      "text/plain": [
       "float"
      ]
     },
     "execution_count": 53,
     "metadata": {},
     "output_type": "execute_result"
    }
   ],
   "source": [
    "type(4.5)"
   ]
  },
  {
   "cell_type": "code",
   "execution_count": 54,
   "id": "68b4a4d2",
   "metadata": {},
   "outputs": [
    {
     "data": {
      "text/plain": [
       "5.0"
      ]
     },
     "execution_count": 54,
     "metadata": {},
     "output_type": "execute_result"
    }
   ],
   "source": [
    "float(5)"
   ]
  },
  {
   "cell_type": "code",
   "execution_count": 55,
   "id": "3a5585f2",
   "metadata": {},
   "outputs": [
    {
     "data": {
      "text/plain": [
       "34"
      ]
     },
     "execution_count": 55,
     "metadata": {},
     "output_type": "execute_result"
    }
   ],
   "source": [
    "int(34.5)"
   ]
  },
  {
   "cell_type": "code",
   "execution_count": 56,
   "id": "64694039",
   "metadata": {},
   "outputs": [
    {
     "data": {
      "text/plain": [
       "'90'"
      ]
     },
     "execution_count": 56,
     "metadata": {},
     "output_type": "execute_result"
    }
   ],
   "source": [
    "str(90)"
   ]
  },
  {
   "cell_type": "code",
   "execution_count": null,
   "id": "efb9741a",
   "metadata": {},
   "outputs": [],
   "source": [
    "'304-211-2323'"
   ]
  },
  {
   "cell_type": "code",
   "execution_count": null,
   "id": "79b1ee64",
   "metadata": {},
   "outputs": [],
   "source": [
    "'(523)556-2121'"
   ]
  },
  {
   "cell_type": "code",
   "execution_count": 57,
   "id": "d4bfe1d5",
   "metadata": {},
   "outputs": [
    {
     "data": {
      "text/plain": [
       "'True'"
      ]
     },
     "execution_count": 57,
     "metadata": {},
     "output_type": "execute_result"
    }
   ],
   "source": [
    "str(True)"
   ]
  },
  {
   "cell_type": "code",
   "execution_count": 58,
   "id": "425d197f",
   "metadata": {},
   "outputs": [
    {
     "data": {
      "text/plain": [
       "1"
      ]
     },
     "execution_count": 58,
     "metadata": {},
     "output_type": "execute_result"
    }
   ],
   "source": [
    "int(True)"
   ]
  },
  {
   "cell_type": "code",
   "execution_count": 59,
   "id": "2518eb7e",
   "metadata": {},
   "outputs": [
    {
     "data": {
      "text/plain": [
       "0"
      ]
     },
     "execution_count": 59,
     "metadata": {},
     "output_type": "execute_result"
    }
   ],
   "source": [
    "int(False)"
   ]
  },
  {
   "cell_type": "code",
   "execution_count": 60,
   "id": "d1e2d9a1",
   "metadata": {},
   "outputs": [
    {
     "data": {
      "text/plain": [
       "1.0"
      ]
     },
     "execution_count": 60,
     "metadata": {},
     "output_type": "execute_result"
    }
   ],
   "source": [
    "float(True)"
   ]
  },
  {
   "cell_type": "code",
   "execution_count": 61,
   "id": "a99f6767",
   "metadata": {},
   "outputs": [
    {
     "data": {
      "text/plain": [
       "0.0"
      ]
     },
     "execution_count": 61,
     "metadata": {},
     "output_type": "execute_result"
    }
   ],
   "source": [
    "float(False)"
   ]
  },
  {
   "cell_type": "code",
   "execution_count": null,
   "id": "0ba755bc",
   "metadata": {},
   "outputs": [],
   "source": [
    "#List Data Structure"
   ]
  },
  {
   "cell_type": "code",
   "execution_count": 2,
   "id": "ffead470",
   "metadata": {},
   "outputs": [],
   "source": [
    "shopping_list = ['rice', 'salt', 'sugar', 'plantain', 'ice cream', 'fries', 'butter']"
   ]
  },
  {
   "cell_type": "markdown",
   "id": "4e5717d4",
   "metadata": {},
   "source": [
    "number = 1"
   ]
  },
  {
   "cell_type": "code",
   "execution_count": 4,
   "id": "38a5df63",
   "metadata": {},
   "outputs": [],
   "source": [
    "message = 'the boy is good'"
   ]
  },
  {
   "cell_type": "code",
   "execution_count": 5,
   "id": "2ecd47ce",
   "metadata": {},
   "outputs": [
    {
     "name": "stdout",
     "output_type": "stream",
     "text": [
      "['rice', 'salt', 'sugar', 'plantain', 'ice cream', 'fries', 'butter']\n"
     ]
    }
   ],
   "source": [
    "print(shopping_list)"
   ]
  },
  {
   "cell_type": "code",
   "execution_count": 6,
   "id": "454118a3",
   "metadata": {},
   "outputs": [
    {
     "name": "stdout",
     "output_type": "stream",
     "text": [
      "<class 'list'>\n"
     ]
    }
   ],
   "source": [
    "print(type(shopping_list))"
   ]
  },
  {
   "cell_type": "code",
   "execution_count": 7,
   "id": "1c9c4d0b",
   "metadata": {},
   "outputs": [],
   "source": [
    "#iterable"
   ]
  },
  {
   "cell_type": "code",
   "execution_count": 8,
   "id": "ef0e7cbc",
   "metadata": {},
   "outputs": [
    {
     "data": {
      "text/plain": [
       "'plantain'"
      ]
     },
     "execution_count": 8,
     "metadata": {},
     "output_type": "execute_result"
    }
   ],
   "source": [
    "shopping_list[3]"
   ]
  },
  {
   "cell_type": "code",
   "execution_count": 10,
   "id": "95b6abb7",
   "metadata": {},
   "outputs": [
    {
     "data": {
      "text/plain": [
       "'rice'"
      ]
     },
     "execution_count": 10,
     "metadata": {},
     "output_type": "execute_result"
    }
   ],
   "source": [
    "shopping_list[0]"
   ]
  },
  {
   "cell_type": "code",
   "execution_count": 12,
   "id": "b5dce4bd",
   "metadata": {},
   "outputs": [
    {
     "data": {
      "text/plain": [
       "'butter'"
      ]
     },
     "execution_count": 12,
     "metadata": {},
     "output_type": "execute_result"
    }
   ],
   "source": [
    "shopping_list[-1]"
   ]
  },
  {
   "cell_type": "code",
   "execution_count": 14,
   "id": "95fae6ad",
   "metadata": {},
   "outputs": [
    {
     "data": {
      "text/plain": [
       "['rice', 'salt', 'sugar']"
      ]
     },
     "execution_count": 14,
     "metadata": {},
     "output_type": "execute_result"
    }
   ],
   "source": [
    "shopping_list[0:3]"
   ]
  },
  {
   "cell_type": "code",
   "execution_count": 16,
   "id": "7614d23b",
   "metadata": {},
   "outputs": [
    {
     "data": {
      "text/plain": [
       "['rice', 'salt', 'sugar']"
      ]
     },
     "execution_count": 16,
     "metadata": {},
     "output_type": "execute_result"
    }
   ],
   "source": [
    "shopping_list[:3]"
   ]
  },
  {
   "cell_type": "code",
   "execution_count": 21,
   "id": "99b29c2b",
   "metadata": {},
   "outputs": [
    {
     "data": {
      "text/plain": [
       "['plantain', 'ice cream', 'fries']"
      ]
     },
     "execution_count": 21,
     "metadata": {},
     "output_type": "execute_result"
    }
   ],
   "source": [
    "shopping_list[-4:-1]"
   ]
  },
  {
   "cell_type": "code",
   "execution_count": 23,
   "id": "4e90aada",
   "metadata": {},
   "outputs": [
    {
     "data": {
      "text/plain": [
       "['rice', 'sugar', 'ice cream', 'butter']"
      ]
     },
     "execution_count": 23,
     "metadata": {},
     "output_type": "execute_result"
    }
   ],
   "source": [
    "shopping_list[::2]"
   ]
  },
  {
   "cell_type": "code",
   "execution_count": 26,
   "id": "639b29fe",
   "metadata": {},
   "outputs": [
    {
     "data": {
      "text/plain": [
       "['rice', 'salt', 'vinegar', 'plantain', 'ice cream', 'fries', 'butter']"
      ]
     },
     "execution_count": 26,
     "metadata": {},
     "output_type": "execute_result"
    }
   ],
   "source": [
    "shopping_list[2]='vinegar'\n",
    "shopping_list"
   ]
  },
  {
   "cell_type": "code",
   "execution_count": 29,
   "id": "442374d3",
   "metadata": {},
   "outputs": [
    {
     "data": {
      "text/plain": [
       "[2, 5, -34, 0, -2]"
      ]
     },
     "execution_count": 29,
     "metadata": {},
     "output_type": "execute_result"
    }
   ],
   "source": [
    "my_list = [2,5,-34,0,-2]\n",
    "my_list"
   ]
  },
  {
   "cell_type": "code",
   "execution_count": 31,
   "id": "06c6c547",
   "metadata": {},
   "outputs": [
    {
     "data": {
      "text/plain": [
       "[1, 6, -4, 'bread', 'shoes', 90]"
      ]
     },
     "execution_count": 31,
     "metadata": {},
     "output_type": "execute_result"
    }
   ],
   "source": [
    "my_list2 = [1,6,-4,'bread','shoes',90]\n",
    "my_list2"
   ]
  },
  {
   "cell_type": "code",
   "execution_count": 33,
   "id": "1760fce6",
   "metadata": {},
   "outputs": [
    {
     "data": {
      "text/plain": [
       "list"
      ]
     },
     "execution_count": 33,
     "metadata": {},
     "output_type": "execute_result"
    }
   ],
   "source": [
    "type(my_list2)"
   ]
  },
  {
   "cell_type": "code",
   "execution_count": 37,
   "id": "28fe8395",
   "metadata": {},
   "outputs": [
    {
     "data": {
      "text/plain": [
       "[1, 4, -7, [2, 6, 18, -13], 'bread', [1, 6, -4, 'bread', 'shoes', 90]]"
      ]
     },
     "execution_count": 37,
     "metadata": {},
     "output_type": "execute_result"
    }
   ],
   "source": [
    "my_list4 = [1,4,-7,[2,6,18,-13],'bread',my_list2]\n",
    "my_list4"
   ]
  },
  {
   "cell_type": "code",
   "execution_count": 38,
   "id": "209be4cf",
   "metadata": {},
   "outputs": [
    {
     "data": {
      "text/plain": [
       "[2, 6, 18, -13]"
      ]
     },
     "execution_count": 38,
     "metadata": {},
     "output_type": "execute_result"
    }
   ],
   "source": [
    "my_list4[3]"
   ]
  },
  {
   "cell_type": "code",
   "execution_count": 39,
   "id": "83c751a6",
   "metadata": {},
   "outputs": [
    {
     "data": {
      "text/plain": [
       "6"
      ]
     },
     "execution_count": 39,
     "metadata": {},
     "output_type": "execute_result"
    }
   ],
   "source": [
    "my_list4[3][1]"
   ]
  },
  {
   "cell_type": "code",
   "execution_count": 44,
   "id": "4c80ccb8",
   "metadata": {},
   "outputs": [
    {
     "data": {
      "text/plain": [
       "'shoes'"
      ]
     },
     "execution_count": 44,
     "metadata": {},
     "output_type": "execute_result"
    }
   ],
   "source": [
    "my_list4[5][4]"
   ]
  },
  {
   "cell_type": "code",
   "execution_count": 45,
   "id": "fb03e8f3",
   "metadata": {},
   "outputs": [],
   "source": [
    "# list methods\n",
    "#immutable - does not change\n",
    "#mutable - changes"
   ]
  },
  {
   "cell_type": "code",
   "execution_count": 47,
   "id": "b1090f3e",
   "metadata": {},
   "outputs": [],
   "source": [
    "message = 'its me here'"
   ]
  },
  {
   "cell_type": "code",
   "execution_count": 48,
   "id": "9a2c29c6",
   "metadata": {},
   "outputs": [
    {
     "data": {
      "text/plain": [
       "'ITS ME HERE'"
      ]
     },
     "execution_count": 48,
     "metadata": {},
     "output_type": "execute_result"
    }
   ],
   "source": [
    "message.upper()"
   ]
  },
  {
   "cell_type": "code",
   "execution_count": 49,
   "id": "58a85594",
   "metadata": {},
   "outputs": [
    {
     "data": {
      "text/plain": [
       "'its me here'"
      ]
     },
     "execution_count": 49,
     "metadata": {},
     "output_type": "execute_result"
    }
   ],
   "source": [
    "message # the string value remains same as strings are immutable however "
   ]
  },
  {
   "cell_type": "code",
   "execution_count": 52,
   "id": "388883f4",
   "metadata": {},
   "outputs": [
    {
     "data": {
      "text/plain": [
       "['rice', 'salt', 'vinegar', 'plantain', 'ice cream', 'fries', 'butter']"
      ]
     },
     "execution_count": 52,
     "metadata": {},
     "output_type": "execute_result"
    }
   ],
   "source": [
    "shopping_list"
   ]
  },
  {
   "cell_type": "code",
   "execution_count": 56,
   "id": "399f1502",
   "metadata": {},
   "outputs": [],
   "source": [
    "shopping_list.reverse() #lists are mutable hence the method applied to the list changes the list itself"
   ]
  },
  {
   "cell_type": "code",
   "execution_count": 58,
   "id": "5924b74c",
   "metadata": {},
   "outputs": [
    {
     "data": {
      "text/plain": [
       "['butter', 'fries', 'ice cream', 'plantain', 'vinegar', 'salt', 'rice']"
      ]
     },
     "execution_count": 58,
     "metadata": {},
     "output_type": "execute_result"
    }
   ],
   "source": [
    "shopping_list"
   ]
  },
  {
   "cell_type": "code",
   "execution_count": 62,
   "id": "17b4aca4",
   "metadata": {},
   "outputs": [],
   "source": [
    "shopping_list.append('latest_appended_value')"
   ]
  },
  {
   "cell_type": "code",
   "execution_count": 63,
   "id": "24e41986",
   "metadata": {},
   "outputs": [
    {
     "data": {
      "text/plain": [
       "['butter',\n",
       " 'fries',\n",
       " 'ice cream',\n",
       " 'plantain',\n",
       " 'vinegar',\n",
       " 'salt',\n",
       " 'rice',\n",
       " 'latest_appended_value',\n",
       " 'latest_appended_value',\n",
       " 'latest_appended_value']"
      ]
     },
     "execution_count": 63,
     "metadata": {},
     "output_type": "execute_result"
    }
   ],
   "source": [
    "shopping_list"
   ]
  },
  {
   "cell_type": "code",
   "execution_count": 64,
   "id": "bba9fa27",
   "metadata": {},
   "outputs": [
    {
     "data": {
      "text/plain": [
       "'latest_appended_value'"
      ]
     },
     "execution_count": 64,
     "metadata": {},
     "output_type": "execute_result"
    }
   ],
   "source": [
    "shopping_list.pop()"
   ]
  },
  {
   "cell_type": "code",
   "execution_count": 65,
   "id": "9b13b027",
   "metadata": {},
   "outputs": [
    {
     "data": {
      "text/plain": [
       "['butter',\n",
       " 'fries',\n",
       " 'ice cream',\n",
       " 'plantain',\n",
       " 'vinegar',\n",
       " 'salt',\n",
       " 'rice',\n",
       " 'latest_appended_value',\n",
       " 'latest_appended_value']"
      ]
     },
     "execution_count": 65,
     "metadata": {},
     "output_type": "execute_result"
    }
   ],
   "source": [
    "shopping_list"
   ]
  },
  {
   "cell_type": "code",
   "execution_count": null,
   "id": "c04970b3",
   "metadata": {},
   "outputs": [],
   "source": []
  },
  {
   "cell_type": "code",
   "execution_count": null,
   "id": "937c6f46",
   "metadata": {},
   "outputs": [],
   "source": []
  },
  {
   "cell_type": "code",
   "execution_count": null,
   "id": "ebf69610",
   "metadata": {},
   "outputs": [],
   "source": []
  },
  {
   "cell_type": "code",
   "execution_count": null,
   "id": "b2fa0560",
   "metadata": {},
   "outputs": [],
   "source": []
  },
  {
   "cell_type": "code",
   "execution_count": null,
   "id": "9752de5e",
   "metadata": {},
   "outputs": [],
   "source": []
  },
  {
   "cell_type": "code",
   "execution_count": null,
   "id": "e17e4851",
   "metadata": {},
   "outputs": [],
   "source": []
  },
  {
   "cell_type": "code",
   "execution_count": null,
   "id": "2302aa18",
   "metadata": {},
   "outputs": [],
   "source": []
  },
  {
   "cell_type": "code",
   "execution_count": null,
   "id": "a7114e1e",
   "metadata": {},
   "outputs": [],
   "source": []
  },
  {
   "cell_type": "code",
   "execution_count": null,
   "id": "a2938d00",
   "metadata": {},
   "outputs": [],
   "source": []
  },
  {
   "cell_type": "code",
   "execution_count": null,
   "id": "55c2d603",
   "metadata": {},
   "outputs": [],
   "source": []
  },
  {
   "cell_type": "code",
   "execution_count": null,
   "id": "0f4c081a",
   "metadata": {},
   "outputs": [],
   "source": []
  },
  {
   "cell_type": "code",
   "execution_count": null,
   "id": "5690ce24",
   "metadata": {},
   "outputs": [],
   "source": []
  },
  {
   "cell_type": "code",
   "execution_count": null,
   "id": "6e64a62b",
   "metadata": {},
   "outputs": [],
   "source": []
  },
  {
   "cell_type": "code",
   "execution_count": null,
   "id": "c53d0ac6",
   "metadata": {},
   "outputs": [],
   "source": []
  },
  {
   "cell_type": "code",
   "execution_count": null,
   "id": "e668eaee",
   "metadata": {},
   "outputs": [],
   "source": []
  },
  {
   "cell_type": "code",
   "execution_count": null,
   "id": "97b79c1c",
   "metadata": {},
   "outputs": [],
   "source": []
  },
  {
   "cell_type": "code",
   "execution_count": null,
   "id": "6885ba26",
   "metadata": {},
   "outputs": [],
   "source": []
  }
 ],
 "metadata": {
  "kernelspec": {
   "display_name": "Python 3 (ipykernel)",
   "language": "python",
   "name": "python3"
  },
  "language_info": {
   "codemirror_mode": {
    "name": "ipython",
    "version": 3
   },
   "file_extension": ".py",
   "mimetype": "text/x-python",
   "name": "python",
   "nbconvert_exporter": "python",
   "pygments_lexer": "ipython3",
   "version": "3.8.8"
  }
 },
 "nbformat": 4,
 "nbformat_minor": 5
}
